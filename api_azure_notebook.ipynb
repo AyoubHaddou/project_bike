{
 "cells": [
  {
   "cell_type": "code",
   "execution_count": 1,
   "metadata": {},
   "outputs": [],
   "source": [
    "import urllib.request\n",
    "import json\n",
    "import os\n",
    "import ssl\n",
    "\n",
    "def allowSelfSignedHttps(allowed):\n",
    "    # bypass the server certificate verification on client side\n",
    "    if allowed and not os.environ.get('PYTHONHTTPSVERIFY', '') and getattr(ssl, '_create_unverified_context', None):\n",
    "        ssl._create_default_https_context = ssl._create_unverified_context\n",
    "\n",
    "allowSelfSignedHttps(True) # this line is needed if you use self-signed certificate in your scoring service.\n",
    "\n",
    "# Request data goes here \n",
    "data = {\n",
    "  \"Inputs\": {\n",
    "    \"data\": [\n",
    "      {\n",
    "        \"Column2\": \"\",\n",
    "        \"season\": 0,\n",
    "        \"holiday\": 0,\n",
    "        \"workingday\": 0,\n",
    "        \"weather\": 1,\n",
    "        \"temp\": -1.0,\n",
    "        \"atemp\": 0.0,\n",
    "        \"humidity\": 0,\n",
    "        \"windspeed\": 0.0,\n",
    "        \"day\": 0,\n",
    "        \"hour\": 0,\n",
    "        \"year\": 0\n",
    "      },\n",
    "      {\n",
    "        \"Column2\": \"\",\n",
    "        \"season\": 0,\n",
    "        \"holiday\": 0,\n",
    "        \"workingday\": 0,\n",
    "        \"weather\": 2,\n",
    "        \"temp\": 0.0,\n",
    "        \"atemp\": 0.0,\n",
    "        \"humidity\": 15,\n",
    "        \"windspeed\": 0.0,\n",
    "        \"day\": 0,\n",
    "        \"hour\": 0,\n",
    "        \"year\": 0\n",
    "      }\n",
    "    ]\n",
    "  },\n",
    "  \"GlobalParameters\": 0.0\n",
    "}\n",
    "\n",
    "\n",
    "\n",
    "def api_azure(data):\n",
    "\n",
    "    body = str.encode(json.dumps(data))\n",
    "\n",
    "    url = 'http://871c041d-2e05-4f25-9aa3-f5b57f00516f.westeurope.azurecontainer.io/score'\n",
    "    api_key = '' # Replace this with the API key for the web service\n",
    "    headers = {'Content-Type':'application/json', 'Authorization':('Bearer '+ api_key)}\n",
    "\n",
    "    req = urllib.request.Request(url, body, headers)\n",
    "\n",
    "    try:\n",
    "        response = urllib.request.urlopen(req)\n",
    "\n",
    "        result = response.read()\n",
    "        print(result)\n",
    "    except urllib.error.HTTPError as error:\n",
    "        print(\"The request failed with status code: \" + str(error.code))\n",
    "\n",
    "        # Print the headers - they include the requert ID and the timestamp, which are useful for debugging the failure\n",
    "        print(error.info())\n",
    "        print(error.read().decode(\"utf8\", 'ignore'))"
   ]
  },
  {
   "cell_type": "code",
   "execution_count": 2,
   "metadata": {},
   "outputs": [
    {
     "name": "stdout",
     "output_type": "stream",
     "text": [
      "b'{\"Results\": [-1.1444601154876777, 27.94320063446866]}'\n"
     ]
    }
   ],
   "source": [
    "api_azure(data)"
   ]
  },
  {
   "cell_type": "code",
   "execution_count": 3,
   "metadata": {},
   "outputs": [],
   "source": [
    "def convert_ayoub(df):\n",
    "    tab = []\n",
    "    col = {\"Column2\" : \"\"}\n",
    "    for i, row in df.iterrows():\n",
    "        tab.append({col ,row.to_dict()})\n",
    "    return({\"Inputs\" : {\"data\" : tab}, \"GlobalParameters\" : 0.0})"
   ]
  },
  {
   "cell_type": "code",
   "execution_count": null,
   "metadata": {},
   "outputs": [],
   "source": []
  }
 ],
 "metadata": {
  "interpreter": {
   "hash": "45357ead6f4da03ac2d24128fc463b8aec036f33d9539f6445fb7785aa61cc64"
  },
  "kernelspec": {
   "display_name": "Python 3.10.4 ('envIA')",
   "language": "python",
   "name": "python3"
  },
  "language_info": {
   "codemirror_mode": {
    "name": "ipython",
    "version": 3
   },
   "file_extension": ".py",
   "mimetype": "text/x-python",
   "name": "python",
   "nbconvert_exporter": "python",
   "pygments_lexer": "ipython3",
   "version": "3.10.4"
  },
  "orig_nbformat": 4
 },
 "nbformat": 4,
 "nbformat_minor": 2
}
