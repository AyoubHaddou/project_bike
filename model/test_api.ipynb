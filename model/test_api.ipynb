{
 "cells": [
  {
   "cell_type": "code",
   "execution_count": 69,
   "metadata": {},
   "outputs": [],
   "source": [
    "import pickle \n",
    "import pandas as pd \n",
    "import json\n",
    "import requests"
   ]
  },
  {
   "cell_type": "code",
   "execution_count": 216,
   "metadata": {},
   "outputs": [],
   "source": [
    "tab = []\n",
    "dic = {}\n",
    "def convert1(df):\n",
    "    for i, row in df.iterrows():\n",
    "        dic[str(i)] = row.to_dict()\n",
    "    return({\"data\" : dic})"
   ]
  },
  {
   "cell_type": "code",
   "execution_count": 217,
   "metadata": {},
   "outputs": [],
   "source": [
    "tab = []\n",
    "dic = {}\n",
    "def convert(df):\n",
    "    for i, row in df.iterrows():\n",
    "        dic = \"'\"+ str(i)+ \"'\" + \":\" + str(row.to_dict())\n",
    "        tab.append(dic)\n",
    "    test = \"{\" + \",\".join(tab) + \"}\"\n",
    "    dic = \"{'data' :\" +  test + \"}\"\n",
    "    return(eval(dic))\n"
   ]
  },
  {
   "cell_type": "code",
   "execution_count": 218,
   "metadata": {},
   "outputs": [
    {
     "data": {
      "text/plain": [
       "{'data': {'0': {'season': 3.0,\n",
       "   'holiday': 0.0,\n",
       "   'workingday': 0.0,\n",
       "   'weather': 4.0,\n",
       "   'temp': 9.84,\n",
       "   'atemp': 14.395,\n",
       "   'humidity': 81.0,\n",
       "   'windspeed': 0.0,\n",
       "   'day': 1.0,\n",
       "   'hour': 0.0,\n",
       "   'year': 2011.0},\n",
       "  '1': {'season': 3.0,\n",
       "   'holiday': 0.0,\n",
       "   'workingday': 0.0,\n",
       "   'weather': 4.0,\n",
       "   'temp': 9.02,\n",
       "   'atemp': 13.635,\n",
       "   'humidity': 80.0,\n",
       "   'windspeed': 0.0,\n",
       "   'day': 1.0,\n",
       "   'hour': 1.0,\n",
       "   'year': 2011.0},\n",
       "  '2': {'season': 3.0,\n",
       "   'holiday': 0.0,\n",
       "   'workingday': 0.0,\n",
       "   'weather': 4.0,\n",
       "   'temp': 9.02,\n",
       "   'atemp': 13.635,\n",
       "   'humidity': 80.0,\n",
       "   'windspeed': 0.0,\n",
       "   'day': 1.0,\n",
       "   'hour': 2.0,\n",
       "   'year': 2011.0}}}"
      ]
     },
     "execution_count": 218,
     "metadata": {},
     "output_type": "execute_result"
    }
   ],
   "source": [
    "convert1(df[:3])"
   ]
  },
  {
   "cell_type": "code",
   "execution_count": 207,
   "metadata": {},
   "outputs": [
    {
     "data": {
      "text/html": [
       "<div>\n",
       "<style scoped>\n",
       "    .dataframe tbody tr th:only-of-type {\n",
       "        vertical-align: middle;\n",
       "    }\n",
       "\n",
       "    .dataframe tbody tr th {\n",
       "        vertical-align: top;\n",
       "    }\n",
       "\n",
       "    .dataframe thead th {\n",
       "        text-align: right;\n",
       "    }\n",
       "</style>\n",
       "<table border=\"1\" class=\"dataframe\">\n",
       "  <thead>\n",
       "    <tr style=\"text-align: right;\">\n",
       "      <th></th>\n",
       "      <th>season</th>\n",
       "      <th>holiday</th>\n",
       "      <th>workingday</th>\n",
       "      <th>weather</th>\n",
       "      <th>temp</th>\n",
       "      <th>atemp</th>\n",
       "      <th>humidity</th>\n",
       "      <th>windspeed</th>\n",
       "      <th>day</th>\n",
       "      <th>hour</th>\n",
       "      <th>year</th>\n",
       "    </tr>\n",
       "  </thead>\n",
       "  <tbody>\n",
       "    <tr>\n",
       "      <th>0</th>\n",
       "      <td>3</td>\n",
       "      <td>0</td>\n",
       "      <td>0</td>\n",
       "      <td>4</td>\n",
       "      <td>9.84</td>\n",
       "      <td>14.395</td>\n",
       "      <td>81</td>\n",
       "      <td>0.0</td>\n",
       "      <td>1</td>\n",
       "      <td>0</td>\n",
       "      <td>2011</td>\n",
       "    </tr>\n",
       "    <tr>\n",
       "      <th>1</th>\n",
       "      <td>3</td>\n",
       "      <td>0</td>\n",
       "      <td>0</td>\n",
       "      <td>4</td>\n",
       "      <td>9.02</td>\n",
       "      <td>13.635</td>\n",
       "      <td>80</td>\n",
       "      <td>0.0</td>\n",
       "      <td>1</td>\n",
       "      <td>1</td>\n",
       "      <td>2011</td>\n",
       "    </tr>\n",
       "    <tr>\n",
       "      <th>2</th>\n",
       "      <td>3</td>\n",
       "      <td>0</td>\n",
       "      <td>0</td>\n",
       "      <td>4</td>\n",
       "      <td>9.02</td>\n",
       "      <td>13.635</td>\n",
       "      <td>80</td>\n",
       "      <td>0.0</td>\n",
       "      <td>1</td>\n",
       "      <td>2</td>\n",
       "      <td>2011</td>\n",
       "    </tr>\n",
       "    <tr>\n",
       "      <th>3</th>\n",
       "      <td>3</td>\n",
       "      <td>0</td>\n",
       "      <td>0</td>\n",
       "      <td>4</td>\n",
       "      <td>9.84</td>\n",
       "      <td>14.395</td>\n",
       "      <td>75</td>\n",
       "      <td>0.0</td>\n",
       "      <td>1</td>\n",
       "      <td>3</td>\n",
       "      <td>2011</td>\n",
       "    </tr>\n",
       "    <tr>\n",
       "      <th>4</th>\n",
       "      <td>3</td>\n",
       "      <td>0</td>\n",
       "      <td>0</td>\n",
       "      <td>4</td>\n",
       "      <td>9.84</td>\n",
       "      <td>14.395</td>\n",
       "      <td>75</td>\n",
       "      <td>0.0</td>\n",
       "      <td>1</td>\n",
       "      <td>4</td>\n",
       "      <td>2011</td>\n",
       "    </tr>\n",
       "    <tr>\n",
       "      <th>...</th>\n",
       "      <td>...</td>\n",
       "      <td>...</td>\n",
       "      <td>...</td>\n",
       "      <td>...</td>\n",
       "      <td>...</td>\n",
       "      <td>...</td>\n",
       "      <td>...</td>\n",
       "      <td>...</td>\n",
       "      <td>...</td>\n",
       "      <td>...</td>\n",
       "      <td>...</td>\n",
       "    </tr>\n",
       "    <tr>\n",
       "      <th>9073</th>\n",
       "      <td>4</td>\n",
       "      <td>0</td>\n",
       "      <td>0</td>\n",
       "      <td>2</td>\n",
       "      <td>111.00</td>\n",
       "      <td>110.000</td>\n",
       "      <td>25</td>\n",
       "      <td>225.0</td>\n",
       "      <td>156</td>\n",
       "      <td>14</td>\n",
       "      <td>2011</td>\n",
       "    </tr>\n",
       "    <tr>\n",
       "      <th>9074</th>\n",
       "      <td>1</td>\n",
       "      <td>0</td>\n",
       "      <td>0</td>\n",
       "      <td>1</td>\n",
       "      <td>-48.00</td>\n",
       "      <td>-55.000</td>\n",
       "      <td>39</td>\n",
       "      <td>110.0</td>\n",
       "      <td>332</td>\n",
       "      <td>15</td>\n",
       "      <td>2011</td>\n",
       "    </tr>\n",
       "    <tr>\n",
       "      <th>9075</th>\n",
       "      <td>1</td>\n",
       "      <td>0</td>\n",
       "      <td>0</td>\n",
       "      <td>2</td>\n",
       "      <td>-110.00</td>\n",
       "      <td>-108.000</td>\n",
       "      <td>10</td>\n",
       "      <td>110.0</td>\n",
       "      <td>361</td>\n",
       "      <td>9</td>\n",
       "      <td>2011</td>\n",
       "    </tr>\n",
       "    <tr>\n",
       "      <th>9076</th>\n",
       "      <td>1</td>\n",
       "      <td>0</td>\n",
       "      <td>0</td>\n",
       "      <td>1</td>\n",
       "      <td>-48.00</td>\n",
       "      <td>-55.000</td>\n",
       "      <td>57</td>\n",
       "      <td>110.0</td>\n",
       "      <td>331</td>\n",
       "      <td>12</td>\n",
       "      <td>2011</td>\n",
       "    </tr>\n",
       "    <tr>\n",
       "      <th>9077</th>\n",
       "      <td>1</td>\n",
       "      <td>0</td>\n",
       "      <td>0</td>\n",
       "      <td>1</td>\n",
       "      <td>-500.00</td>\n",
       "      <td>-55.000</td>\n",
       "      <td>84</td>\n",
       "      <td>110.0</td>\n",
       "      <td>2</td>\n",
       "      <td>16</td>\n",
       "      <td>2012</td>\n",
       "    </tr>\n",
       "  </tbody>\n",
       "</table>\n",
       "<p>9078 rows × 11 columns</p>\n",
       "</div>"
      ],
      "text/plain": [
       "      season  holiday  workingday  weather    temp    atemp  humidity  \\\n",
       "0          3        0           0        4    9.84   14.395        81   \n",
       "1          3        0           0        4    9.02   13.635        80   \n",
       "2          3        0           0        4    9.02   13.635        80   \n",
       "3          3        0           0        4    9.84   14.395        75   \n",
       "4          3        0           0        4    9.84   14.395        75   \n",
       "...      ...      ...         ...      ...     ...      ...       ...   \n",
       "9073       4        0           0        2  111.00  110.000        25   \n",
       "9074       1        0           0        1  -48.00  -55.000        39   \n",
       "9075       1        0           0        2 -110.00 -108.000        10   \n",
       "9076       1        0           0        1  -48.00  -55.000        57   \n",
       "9077       1        0           0        1 -500.00  -55.000        84   \n",
       "\n",
       "      windspeed  day  hour  year  \n",
       "0           0.0    1     0  2011  \n",
       "1           0.0    1     1  2011  \n",
       "2           0.0    1     2  2011  \n",
       "3           0.0    1     3  2011  \n",
       "4           0.0    1     4  2011  \n",
       "...         ...  ...   ...   ...  \n",
       "9073      225.0  156    14  2011  \n",
       "9074      110.0  332    15  2011  \n",
       "9075      110.0  361     9  2011  \n",
       "9076      110.0  331    12  2011  \n",
       "9077      110.0    2    16  2012  \n",
       "\n",
       "[9078 rows x 11 columns]"
      ]
     },
     "execution_count": 207,
     "metadata": {},
     "output_type": "execute_result"
    }
   ],
   "source": [
    "df"
   ]
  },
  {
   "cell_type": "code",
   "execution_count": 219,
   "metadata": {},
   "outputs": [
    {
     "name": "stdout",
     "output_type": "stream",
     "text": [
      "[18, 38, 29]\n"
     ]
    }
   ],
   "source": [
    "df = pd.read_csv('test.csv')\n",
    "del df['Unnamed: 0']\n",
    "\n",
    "r = requests.post(url='http://127.0.0.1:8000/predict/xgboost/all', data=(json.dumps(convert1(df[:3]))))\n",
    "print(r.json())\n"
   ]
  },
  {
   "cell_type": "code",
   "execution_count": 189,
   "metadata": {},
   "outputs": [
    {
     "name": "stdout",
     "output_type": "stream",
     "text": [
      "{\"data\": {\"0\": {\"season\": 1, \"holiday\": 1, \"workingday\": 1, \"weather\": 1, \"temp\": 20, \"atemp\": 15, \"humidity\": 15, \"windspeed\": 20, \"day\": 88, \"hour\": 16, \"year\": 2011}, \"1\": {\"season\": 1, \"holiday\": 1, \"workingday\": 1, \"weather\": 1, \"temp\": 19, \"atemp\": 20, \"humidity\": 15, \"windspeed\": 20, \"day\": 88, \"hour\": 9, \"year\": 2012}}}\n"
     ]
    }
   ],
   "source": [
    "print('{\"data\": {\"0\": {\"season\": 1, \"holiday\": 1, \"workingday\": 1, \"weather\": 1, \"temp\": 20, \"atemp\": 15, \"humidity\": 15, \"windspeed\": 20, \"day\": 88, \"hour\": 16, \"year\": 2011}, \"1\": {\"season\": 1, \"holiday\": 1, \"workingday\": 1, \"weather\": 1, \"temp\": 19, \"atemp\": 20, \"humidity\": 15, \"windspeed\": 20, \"day\": 88, \"hour\": 9, \"year\": 2012}}}')"
   ]
  },
  {
   "cell_type": "code",
   "execution_count": null,
   "metadata": {},
   "outputs": [],
   "source": []
  },
  {
   "cell_type": "code",
   "execution_count": 171,
   "metadata": {},
   "outputs": [],
   "source": [
    "savedmodel = open('./xgboost.pkl', 'rb')\n",
    "model = pickle.load(savedmodel)\n",
    "savedmodel.close()"
   ]
  },
  {
   "cell_type": "code",
   "execution_count": 1,
   "metadata": {},
   "outputs": [
    {
     "data": {
      "text/plain": [
       "3"
      ]
     },
     "execution_count": 1,
     "metadata": {},
     "output_type": "execute_result"
    }
   ],
   "source": [
    "a = [1,2,3]\n",
    "len(a)"
   ]
  },
  {
   "cell_type": "code",
   "execution_count": 14,
   "metadata": {},
   "outputs": [
    {
     "data": {
      "text/html": [
       "<div>\n",
       "<style scoped>\n",
       "    .dataframe tbody tr th:only-of-type {\n",
       "        vertical-align: middle;\n",
       "    }\n",
       "\n",
       "    .dataframe tbody tr th {\n",
       "        vertical-align: top;\n",
       "    }\n",
       "\n",
       "    .dataframe thead th {\n",
       "        text-align: right;\n",
       "    }\n",
       "</style>\n",
       "<table border=\"1\" class=\"dataframe\">\n",
       "  <thead>\n",
       "    <tr style=\"text-align: right;\">\n",
       "      <th></th>\n",
       "      <th>season</th>\n",
       "      <th>holiday</th>\n",
       "      <th>workingday</th>\n",
       "      <th>weather</th>\n",
       "      <th>temp</th>\n",
       "      <th>atemp</th>\n",
       "      <th>humidity</th>\n",
       "      <th>windspeed</th>\n",
       "      <th>count</th>\n",
       "      <th>day</th>\n",
       "      <th>hour</th>\n",
       "      <th>year</th>\n",
       "    </tr>\n",
       "  </thead>\n",
       "  <tbody>\n",
       "    <tr>\n",
       "      <th>0</th>\n",
       "      <td>3.0</td>\n",
       "      <td>0.0</td>\n",
       "      <td>0.0</td>\n",
       "      <td>4.0</td>\n",
       "      <td>9.84</td>\n",
       "      <td>14.395</td>\n",
       "      <td>81.0</td>\n",
       "      <td>0.0</td>\n",
       "      <td>16.0</td>\n",
       "      <td>1.0</td>\n",
       "      <td>0.0</td>\n",
       "      <td>2011.0</td>\n",
       "    </tr>\n",
       "  </tbody>\n",
       "</table>\n",
       "</div>"
      ],
      "text/plain": [
       "   season  holiday  workingday  weather  temp   atemp  humidity  windspeed  \\\n",
       "0     3.0      0.0         0.0      4.0  9.84  14.395      81.0        0.0   \n",
       "\n",
       "   count  day  hour    year  \n",
       "0   16.0  1.0   0.0  2011.0  "
      ]
     },
     "execution_count": 14,
     "metadata": {},
     "output_type": "execute_result"
    }
   ],
   "source": [
    "test_post = {\"season\":3.0,\"holiday\":0.0,\"workingday\":0.0,\"weather\":4.0,\"temp\":9.84,\"atemp\":14.395,\"humidity\":81.0,\"windspeed\":0.0,\"count\":16.0,\"day\":1.0,\"hour\":0.0,\"year\":2011.0}\n",
    "\n",
    "df = pd.DataFrame(test_post, index=[0])\n",
    "df"
   ]
  },
  {
   "cell_type": "code",
   "execution_count": 15,
   "metadata": {},
   "outputs": [
    {
     "data": {
      "text/plain": [
       "array([25.989832], dtype=float32)"
      ]
     },
     "execution_count": 15,
     "metadata": {},
     "output_type": "execute_result"
    }
   ],
   "source": [
    "model.predict(df)"
   ]
  },
  {
   "cell_type": "code",
   "execution_count": 195,
   "metadata": {},
   "outputs": [
    {
     "name": "stdout",
     "output_type": "stream",
     "text": [
      "[148, 336]\n"
     ]
    }
   ],
   "source": [
    "import requests \n",
    "import json \n",
    "\n",
    "data = { \"data\" :  \n",
    "  {\n",
    "  \"0\" : {\n",
    "  \"season\": 1,\n",
    "  \"holiday\": 1,\n",
    "  \"workingday\": 1,\n",
    "  \"weather\": 1,\n",
    "  \"temp\": 20,\n",
    "  \"atemp\": 15,\n",
    "  \"humidity\": 15,\n",
    "  \"windspeed\": 20,\n",
    "  \"day\": 88,\n",
    "  \"hour\": 16,\n",
    "  \"year\": 2011\n",
    "}, \"1\" : {\n",
    "  \"season\": 1,\n",
    "  \"holiday\": 1,\n",
    "  \"workingday\": 1,\n",
    "  \"weather\": 1,\n",
    "  \"temp\": 19,\n",
    "  \"atemp\": 20,\n",
    "  \"humidity\": 15,\n",
    "  \"windspeed\": 20,\n",
    "  \"day\": 88,\n",
    "  \"hour\": 9,\n",
    "  \"year\": 2012}}}\n",
    "\n",
    "r = requests.post(url='http://127.0.0.1:8000/predict/xgboost/all', data=json.dumps(data))\n",
    "print(r.json())"
   ]
  },
  {
   "cell_type": "code",
   "execution_count": 76,
   "metadata": {},
   "outputs": [
    {
     "data": {
      "text/plain": [
       "'{\"data\": {\"0\": {\"season\": 1, \"holiday\": 1, \"workingday\": 1, \"weather\": 1, \"temp\": 20, \"atemp\": 15, \"humidity\": 15, \"windspeed\": 20, \"day\": 88, \"hour\": 16, \"year\": 2011}, \"1\": {\"season\": 1, \"holiday\": 1, \"workingday\": 1, \"weather\": 1, \"temp\": 19, \"atemp\": 20, \"humidity\": 15, \"windspeed\": 20, \"day\": 88, \"hour\": 9, \"year\": 2012}}}'"
      ]
     },
     "execution_count": 76,
     "metadata": {},
     "output_type": "execute_result"
    }
   ],
   "source": [
    "json.dumps(data)"
   ]
  },
  {
   "cell_type": "code",
   "execution_count": null,
   "metadata": {},
   "outputs": [],
   "source": []
  }
 ],
 "metadata": {
  "interpreter": {
   "hash": "45357ead6f4da03ac2d24128fc463b8aec036f33d9539f6445fb7785aa61cc64"
  },
  "kernelspec": {
   "display_name": "Python 3.10.4 ('envIA')",
   "language": "python",
   "name": "python3"
  },
  "language_info": {
   "codemirror_mode": {
    "name": "ipython",
    "version": 3
   },
   "file_extension": ".py",
   "mimetype": "text/x-python",
   "name": "python",
   "nbconvert_exporter": "python",
   "pygments_lexer": "ipython3",
   "version": "3.10.0"
  },
  "orig_nbformat": 4
 },
 "nbformat": 4,
 "nbformat_minor": 2
}
